{
 "cells": [
  {
   "cell_type": "markdown",
   "source": [
    "# Data Science with Python \n",
    "\n",
    "## Python Review\n",
    "\n",
    "\n",
    "\n"
   ],
   "metadata": {
    "slideshow": {
     "slide_type": "subslide"
    }
   }
  },
  {
   "cell_type": "markdown",
   "source": [
    "# Before we begin, be sure you have Python 3 installed!\n",
    "\n",
    "1. Download from Anaconda\n",
    " * go to https://www.anaconda.com/products/individual at the bottom of the page\n",
    " \n",
    "You can use Jupyter Notebooks or your IDE of choice.  These days I like VS Code, but there are many good choices."
   ],
   "metadata": {
    "slideshow": {
     "slide_type": "subslide"
    }
   }
  },
  {
   "cell_type": "markdown",
   "source": [
    "# Python Fundamentals\n",
    "\n"
   ],
   "metadata": {
    "slideshow": {
     "slide_type": "slide"
    }
   }
  },
  {
   "cell_type": "markdown",
   "source": [
    "## *Dynamic* typing, no declarations"
   ],
   "metadata": {
    "slideshow": {
     "slide_type": "subslide"
    }
   }
  },
  {
   "cell_type": "code",
   "execution_count": null,
   "source": [
    "x = 3.9\n",
    "print(x)\n",
    "x = \"Python\"\n",
    "print(x)"
   ],
   "outputs": [],
   "metadata": {
    "tags": []
   }
  },
  {
   "cell_type": "markdown",
   "source": [
    "## ...but strongly typed"
   ],
   "metadata": {
    "slideshow": {
     "slide_type": "subslide"
    }
   }
  },
  {
   "cell_type": "code",
   "execution_count": null,
   "source": [
    "x = 'hello'\n",
    "y = x + 1\n",
    "y"
   ],
   "outputs": [],
   "metadata": {}
  },
  {
   "cell_type": "markdown",
   "source": [
    "## if/elif/else"
   ],
   "metadata": {
    "slideshow": {
     "slide_type": "subslide"
    }
   }
  },
  {
   "cell_type": "code",
   "execution_count": null,
   "source": [
    "x = 17\n",
    "\n",
    "if x == 1: # no parens needed around expression\n",
    "    print('hey, x is 1')\n",
    "    print('foo')\n",
    "elif x < 10:\n",
    "    print('x is less than 10 and not 1')\n",
    "else:\n",
    "    print('x >= 10')\n",
    "        "
   ],
   "outputs": [],
   "metadata": {
    "tags": []
   }
  },
  {
   "cell_type": "markdown",
   "source": [
    "## Functions"
   ],
   "metadata": {
    "slideshow": {
     "slide_type": "subslide"
    }
   }
  },
  {
   "cell_type": "code",
   "execution_count": null,
   "source": [
    "def myfunc(x):\n",
    "    print('do something', x)\n",
    "    if x == 1:\n",
    "        return True\n",
    "    else:\n",
    "        return 'abc'\n",
    "    \n",
    "print(myfunc(4.8))"
   ],
   "outputs": [],
   "metadata": {
    "tags": []
   }
  },
  {
   "cell_type": "markdown",
   "source": [
    "## ...functions return __`None`__ if return not invoked"
   ],
   "metadata": {}
  },
  {
   "cell_type": "code",
   "execution_count": null,
   "source": [
    "def myfunc(x):\n",
    "    print('do something', x)\n",
    "\n",
    "print(myfunc(35))"
   ],
   "outputs": [],
   "metadata": {
    "scrolled": true,
    "tags": []
   }
  },
  {
   "cell_type": "markdown",
   "source": [
    "## What is __`None`__?\n",
    "* it acts like __`False`__, but it's a different object\n",
    "* Rookie mistake: If you get an error complaining about none, did to take the return value of function when you meant to use another value?"
   ],
   "metadata": {}
  },
  {
   "cell_type": "code",
   "execution_count": null,
   "source": [
    "if None is False:\n",
    "    print('no! None is not False')\n",
    "id(None), id(False)"
   ],
   "outputs": [],
   "metadata": {
    "tags": []
   }
  },
  {
   "cell_type": "markdown",
   "source": [
    "## Iterating with __`for`__ loops\n",
    "* iterating through a container\n",
    "If you come from a language with numeric iterators, this is weird."
   ],
   "metadata": {
    "slideshow": {
     "slide_type": "subslide"
    }
   }
  },
  {
   "cell_type": "code",
   "execution_count": null,
   "source": [
    "# This looks normal, right?\n",
    "for num in range(25):\n",
    "    print(num, end=' ')"
   ],
   "outputs": [],
   "metadata": {
    "tags": []
   }
  },
  {
   "cell_type": "code",
   "execution_count": null,
   "source": [
    "# This is Pythonic\n",
    "mylist = 'small medium large'.split()\n",
    "for size in mylist:\n",
    "    print(size)"
   ],
   "outputs": [],
   "metadata": {
    "tags": []
   }
  },
  {
   "cell_type": "code",
   "execution_count": null,
   "source": [
    "# This is NOT Pythonic\n",
    "mylist = 'small medium large'.split()\n",
    "for i in range(len(mylist)):\n",
    "    print(mylist[i])"
   ],
   "outputs": [],
   "metadata": {}
  },
  {
   "cell_type": "markdown",
   "source": [
    "## Modules\n",
    "* just files of Python code\n",
    "* export variables, functions, and/or classes"
   ],
   "metadata": {
    "slideshow": {
     "slide_type": "subslide"
    }
   }
  },
  {
   "cell_type": "code",
   "execution_count": null,
   "source": [
    "# this code lives in mymodule.py\n",
    "def dummy():\n",
    "    return 45\n",
    "   \n",
    "public_data = \"public stuff!\"\n",
    "_private_data = \"private stuff!\"\n",
    "print('__name__ =', __name__)\n",
    "\n",
    "# If this code is being *run*, then __name__ will be '__main__'\n",
    "if __name__ == '__main__':\n",
    "    # test dummy\n",
    "    if dummy() == 45:\n",
    "        print('success')"
   ],
   "outputs": [],
   "metadata": {
    "slideshow": {
     "slide_type": "subslide"
    },
    "tags": []
   }
  },
  {
   "cell_type": "code",
   "execution_count": null,
   "source": [
    "!python3 mymodule.py\n",
    "# The above runs a command in the shell, outside of the notebook"
   ],
   "outputs": [],
   "metadata": {
    "scrolled": true,
    "tags": []
   }
  },
  {
   "cell_type": "code",
   "execution_count": null,
   "source": [
    "import mymodule\n",
    "mymodule.dummy() # must preface identifiers with module name"
   ],
   "outputs": [],
   "metadata": {
    "tags": []
   }
  },
  {
   "cell_type": "code",
   "execution_count": null,
   "source": [
    "mymodule._private_data, mymodule.public_data"
   ],
   "outputs": [],
   "metadata": {}
  },
  {
   "cell_type": "code",
   "execution_count": null,
   "source": [
    "from mymodule import public_data as thismodule_data"
   ],
   "outputs": [],
   "metadata": {
    "scrolled": true,
    "slideshow": {
     "slide_type": "subslide"
    }
   }
  },
  {
   "cell_type": "markdown",
   "source": [
    "# Python Datatype Overview"
   ],
   "metadata": {
    "slideshow": {
     "slide_type": "slide"
    }
   }
  },
  {
   "cell_type": "markdown",
   "source": [
    "## Ints, Floats and Booleans\n",
    "They are quite standard"
   ],
   "metadata": {}
  },
  {
   "cell_type": "markdown",
   "source": [
    "## Strings\n",
    "* can use single or double quotes\n",
    "* triple quotes (single or double) allow multi-line strings"
   ],
   "metadata": {
    "slideshow": {
     "slide_type": "subslide"
    }
   }
  },
  {
   "cell_type": "code",
   "execution_count": null,
   "source": [
    "s = \"The embedded apostrophe isn't a problem!\"\n",
    "print(s)\n",
    "s = 'Nor are embedded \"quotes\"'\n",
    "print(s)\n",
    "s = \"This string is \\\"more difficult\\\" to read\"\n",
    "print(s)"
   ],
   "outputs": [],
   "metadata": {
    "tags": []
   }
  },
  {
   "cell_type": "code",
   "execution_count": null,
   "source": [
    "s = '''A man,\n",
    "a plan, \n",
    "a canal: Panama'''\n",
    "print(s)"
   ],
   "outputs": [],
   "metadata": {
    "tags": []
   }
  },
  {
   "cell_type": "code",
   "execution_count": null,
   "source": [
    "# What are all the __methods__?\n",
    "dir(str)"
   ],
   "outputs": [],
   "metadata": {
    "tags": []
   }
  },
  {
   "cell_type": "markdown",
   "source": [
    "## Lists\n",
    "\n",
    "A real workhorse of python.\n",
    "\n",
    "* ordered\n",
    "* mutable\n",
    "* comma-separated values in []\n",
    "* types can be mixed\n",
    "* append(), extend(), pop(), remove()\n",
    "* clear(), copy(), sort(), reverse()\n",
    "* count(), index()"
   ],
   "metadata": {
    "slideshow": {
     "slide_type": "subslide"
    }
   }
  },
  {
   "cell_type": "code",
   "execution_count": null,
   "source": [
    "years = [1215, 1620, 1812, 1941]\n",
    "weird_list = [1, 'two', (3, 4), False]\n",
    "[years[1], weird_list[2]]"
   ],
   "outputs": [],
   "metadata": {}
  },
  {
   "cell_type": "markdown",
   "source": [
    "### List comprehensions:"
   ],
   "metadata": {
    "colab_type": "text",
    "id": "arrLCcMyL9gK"
   }
  },
  {
   "cell_type": "markdown",
   "source": [
    "When programming, frequently we want to transform one type of data into another. As a simple example, consider the following code that computes square numbers:"
   ],
   "metadata": {
    "colab_type": "text",
    "id": "5Qn2jU_pL9gL"
   }
  },
  {
   "cell_type": "code",
   "execution_count": null,
   "source": [
    "nums = [0, 1, 2, 3, 4]\n",
    "squares = []\n",
    "for x in nums:\n",
    "    squares.append(x ** 2)\n",
    "print(squares)"
   ],
   "outputs": [
    {
     "output_type": "stream",
     "name": "stdout",
     "text": [
      "[0, 1, 4, 9, 16]\n"
     ]
    }
   ],
   "metadata": {
    "colab": {
     "base_uri": "https://localhost:8080/",
     "height": 34
    },
    "colab_type": "code",
    "id": "IVNEwoMXL9gL",
    "outputId": "d571445b-055d-45f0-f800-24fd76ceec5a"
   }
  },
  {
   "cell_type": "markdown",
   "source": [
    "You can make this code simpler using a list comprehension:"
   ],
   "metadata": {
    "colab_type": "text",
    "id": "7DmKVUFaL9gQ"
   }
  },
  {
   "cell_type": "code",
   "execution_count": null,
   "source": [
    "nums = [0, 1, 2, 3, 4]\n",
    "squares = [x ** 2 for x in nums]\n",
    "print(squares)"
   ],
   "outputs": [
    {
     "output_type": "stream",
     "name": "stdout",
     "text": [
      "[0, 1, 4, 9, 16]\n"
     ]
    }
   ],
   "metadata": {
    "colab": {
     "base_uri": "https://localhost:8080/",
     "height": 34
    },
    "colab_type": "code",
    "id": "kZxsUfV6L9gR",
    "outputId": "4254a7d4-58ba-4f70-a963-20c46b485b72"
   }
  },
  {
   "cell_type": "markdown",
   "source": [
    "List comprehensions can also contain conditions:"
   ],
   "metadata": {
    "colab_type": "text",
    "id": "-D8ARK7tL9gV"
   }
  },
  {
   "cell_type": "code",
   "execution_count": null,
   "source": [
    "nums = [0, 1, 2, 3, 4]\n",
    "even_squares = [x ** 2 for x in nums if x % 2 == 0]\n",
    "print(even_squares)"
   ],
   "outputs": [
    {
     "output_type": "stream",
     "name": "stdout",
     "text": [
      "[0, 4, 16]\n"
     ]
    }
   ],
   "metadata": {
    "colab": {
     "base_uri": "https://localhost:8080/",
     "height": 34
    },
    "colab_type": "code",
    "id": "yUtgOyyYL9gV",
    "outputId": "1ae7ab58-8119-44dc-8e57-fda09197d026"
   }
  },
  {
   "cell_type": "markdown",
   "source": [
    "## Tuples\n",
    "* immutable\n",
    "* generally imply some structure\n",
    "* parens not required when declaring\n",
    "* used in the very pythonic unpacking"
   ],
   "metadata": {
    "slideshow": {
     "slide_type": "subslide"
    }
   }
  },
  {
   "cell_type": "code",
   "execution_count": null,
   "source": [
    "# empty tuple\n",
    "t = ()\n",
    "print(t)\n",
    "# singleton tuple\n",
    "t = 1,\n",
    "print(t)\n",
    "\n",
    "def unpack():\n",
    "    return \"Spam\", 42, len\n",
    "\n",
    "a, b, c = unpack()\n",
    "print(a,b,c)"
   ],
   "outputs": [],
   "metadata": {
    "slideshow": {
     "slide_type": "subslide"
    },
    "tags": []
   }
  },
  {
   "cell_type": "markdown",
   "source": [
    "## Sets\n",
    "* unordered\n",
    "* no duplicates\n",
    "* implement set logic: Union, Intersection, etc."
   ],
   "metadata": {
    "slideshow": {
     "slide_type": "subslide"
    }
   }
  },
  {
   "cell_type": "code",
   "execution_count": null,
   "source": [
    "t = set()\n",
    "type(t)"
   ],
   "outputs": [],
   "metadata": {
    "slideshow": {
     "slide_type": "-"
    }
   }
  },
  {
   "cell_type": "code",
   "execution_count": null,
   "source": [
    "even = { 2, 4, 6 }\n",
    "print(even)\n",
    "even.add(8)\n",
    "even.add(2)\n",
    "print(even)"
   ],
   "outputs": [],
   "metadata": {
    "tags": []
   }
  },
  {
   "cell_type": "code",
   "execution_count": null,
   "source": [
    "prime = set([int(x) for x in '2357'])\n",
    "print(prime)\n",
    "print('all numbers =', prime | even)\n",
    "print('even primes =', prime & even)\n"
   ],
   "outputs": [],
   "metadata": {
    "tags": []
   }
  },
  {
   "cell_type": "code",
   "execution_count": null,
   "source": [
    "7 in prime"
   ],
   "outputs": [],
   "metadata": {}
  },
  {
   "cell_type": "markdown",
   "source": [
    "## Dictionaries\n",
    "* unordered list of key/value pairs\n",
    "* associative array, hash, etc.\n",
    "* very fast at retrieving items from big data sets that fit in memory"
   ],
   "metadata": {
    "slideshow": {
     "slide_type": "subslide"
    }
   }
  },
  {
   "cell_type": "code",
   "execution_count": null,
   "source": [
    "d = { 'red': 0, 'blue': 1, 'green': 2 }\n",
    "d['blue'] = 9\n",
    "d['yellow'] = -1\n",
    "print(d)"
   ],
   "outputs": [],
   "metadata": {
    "tags": []
   }
  },
  {
   "cell_type": "code",
   "execution_count": null,
   "source": [
    "d = {}\n",
    "d['tall'] = 12\n",
    "d['grande'] = 16\n",
    "d['venti'] = 20\n",
    "print(d)"
   ],
   "outputs": [],
   "metadata": {
    "tags": []
   }
  },
  {
   "cell_type": "code",
   "execution_count": null,
   "source": [
    "# keys() function is a view, which is dynamic\n",
    "#keys = d.keys()\n",
    "#Python2_keys = list(d.keys())\n",
    "# a snapshot of the keys() gives us a static list\n",
    "print('keys are', d.keys())\n",
    "print('values are', d.values())\n",
    "print('items are', d.items())"
   ],
   "outputs": [],
   "metadata": {
    "tags": []
   }
  },
  {
   "cell_type": "code",
   "execution_count": null,
   "source": [
    "print(d.keys())"
   ],
   "outputs": [],
   "metadata": {
    "tags": []
   }
  },
  {
   "cell_type": "code",
   "execution_count": null,
   "source": [
    "# now add to the dict...\n",
    "d['trenta'] = 31\n",
    "d.keys()"
   ],
   "outputs": [],
   "metadata": {}
  },
  {
   "cell_type": "code",
   "execution_count": null,
   "source": [
    "aa = d.keys()\n",
    "print(aa)\n",
    "d['lots'] = 64\n",
    "print(aa)"
   ],
   "outputs": [],
   "metadata": {
    "tags": []
   }
  },
  {
   "cell_type": "code",
   "execution_count": null,
   "source": [
    "# not all elements need to have the same type\n",
    "d['happy'] = ['pooh', 'bear']"
   ],
   "outputs": [],
   "metadata": {}
  },
  {
   "cell_type": "code",
   "execution_count": null,
   "source": [
    "d"
   ],
   "outputs": [],
   "metadata": {}
  },
  {
   "cell_type": "code",
   "execution_count": null,
   "source": [
    "# You cannot use mutable types or other unhashables\n",
    "# This is a gotcha.  Lists cannot be a key.  \n",
    "d[['pooh', 'bear']] = 'tigger'"
   ],
   "outputs": [],
   "metadata": {}
  },
  {
   "cell_type": "code",
   "execution_count": null,
   "source": [
    "# If you already have frozendict then this is not necessary\n",
    "!conda install -y frozendict\n",
    "\n",
    "# In nested json data you frequently parsing nested dicts. \n",
    "# Frozendict can help.  This is common in dealing with big datasets."
   ],
   "outputs": [],
   "metadata": {}
  },
  {
   "cell_type": "code",
   "execution_count": null,
   "source": [
    "from frozendict import frozendict\n",
    "\n",
    "fd = frozendict({ 'pooh': 'bear' })\n",
    "\n",
    "print(fd)\n",
    "d[fd] = 'tigger'\n",
    "\n",
    "d[fd]"
   ],
   "outputs": [],
   "metadata": {}
  },
  {
   "cell_type": "markdown",
   "source": [
    "### Classes"
   ],
   "metadata": {
    "colab_type": "text",
    "id": "ObA9PRtQL9hT"
   }
  },
  {
   "cell_type": "markdown",
   "source": [
    "The syntax for defining classes in Python is straightforward:"
   ],
   "metadata": {
    "colab_type": "text",
    "id": "hAzL_lTkL9hU"
   }
  },
  {
   "cell_type": "code",
   "execution_count": null,
   "source": [
    "class Greeter:\n",
    "\n",
    "    # Constructor\n",
    "    def __init__(self, name):\n",
    "        self.name = name  # Create an instance variable\n",
    "\n",
    "    # Instance method\n",
    "    def greet(self, loud=False):\n",
    "        if loud:\n",
    "          print('HELLO, {}'.format(self.name.upper()))\n",
    "        else:\n",
    "          print('Hello, {}!'.format(self.name))\n",
    "\n",
    "g = Greeter('Fred')  # Construct an instance of the Greeter class\n",
    "g.greet()            # Call an instance method; prints \"Hello, Fred\"\n",
    "g.greet(loud=True)   # Call an instance method; prints \"HELLO, FRED!\""
   ],
   "outputs": [
    {
     "output_type": "stream",
     "name": "stdout",
     "text": [
      "Hello, Fred!\n",
      "HELLO, FRED\n"
     ]
    }
   ],
   "metadata": {
    "colab": {
     "base_uri": "https://localhost:8080/",
     "height": 52
    },
    "colab_type": "code",
    "id": "RWdbaGigL9hU",
    "outputId": "4f6615c5-75a7-4ce4-8ea1-1e7f5e4e9fc3"
   }
  },
  {
   "cell_type": "markdown",
   "source": [
    "### Readability \n",
    "\n",
    "Python code is often said to be almost like pseudocode, since it allows you to express powerful ideas in very few lines of code, while being *readable*. As an example, here is an implementation of the classic quicksort algorithm in Python:"
   ],
   "metadata": {}
  },
  {
   "cell_type": "code",
   "execution_count": 44,
   "source": [
    "def quicksort(arr):\n",
    "    if len(arr) <= 1:\n",
    "        return arr\n",
    "    pivot = arr[len(arr) // 2]\n",
    "    left = [x for x in arr if x < pivot]\n",
    "    middle = [x for x in arr if x == pivot]\n",
    "    right = [x for x in arr if x > pivot]\n",
    "    return quicksort(left) + middle + quicksort(right)\n",
    "\n",
    "print(quicksort([3,6,8,10,1,2,1]))"
   ],
   "outputs": [
    {
     "output_type": "stream",
     "name": "stdout",
     "text": [
      "[1, 1, 2, 3, 6, 8, 10]\n"
     ]
    }
   ],
   "metadata": {}
  },
  {
   "cell_type": "code",
   "execution_count": null,
   "source": [],
   "outputs": [],
   "metadata": {}
  }
 ],
 "metadata": {
  "celltoolbar": "Slideshow",
  "kernelspec": {
   "name": "python3",
   "display_name": "Python 3.7.7 64-bit (conda)"
  },
  "language_info": {
   "codemirror_mode": {
    "name": "ipython",
    "version": 3
   },
   "file_extension": ".py",
   "mimetype": "text/x-python",
   "name": "python",
   "nbconvert_exporter": "python",
   "pygments_lexer": "ipython3",
   "version": "3.7.7"
  },
  "interpreter": {
   "hash": "3527f294f9700bdfbf89bf53429f7afc5a22433e908fabe54efa2c4cecbfa256"
  }
 },
 "nbformat": 4,
 "nbformat_minor": 4
}